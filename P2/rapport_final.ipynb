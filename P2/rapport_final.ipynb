{
 "cells": [
  {
   "cell_type": "markdown",
   "metadata": {},
   "source": [
    "Florian Quintin\n",
    "Project 2\n",
    "\n",
    "Nous alons voire dans se rapport un approffonisement de l'étude précédament menné "
   ]
  },
  {
   "cell_type": "markdown",
   "metadata": {},
   "source": [
    "Pour rappel : nous avons mie relation les passagers qui ont survécue et leurs lieux d'embarquement\n",
    "\n",
    "1) Southampton (en Angletaire): le premier lieux d'embarquement ou 72.4% des passager on embarquer\n",
    "\n",
    "2) Cherbourg (en France): ou 18.9% des passager embarque\n",
    "\n",
    "3) Queenstown (en Irlande): ou enfin 7.8% du reste des passagers embarqués avant de se lancer vers sa transe atlantique\n",
    "\n",
    "se pourcentage indique la répartition des passagers du fichier train.csv on remarque que cette répartition n'est pas totalement répartie cela est dû à un manque de données sur certains passagers (1.1%) ce nombre est suffisamment faible pour que l'on puisse l'ignorer."
   ]
  },
  {
   "cell_type": "code",
   "execution_count": 7,
   "metadata": {
    "collapsed": false
   },
   "outputs": [],
   "source": [
    "# importation des différentes librairies\n",
    "import numpy as np\n",
    "import scipy.stats as ss\n",
    "import matplotlib.pyplot as plt\n",
    "import sklearn\n",
    "import pandas as pd\n",
    "import math as mt\n",
    "%matplotlib inline\n",
    "import csv as csv\n",
    "\n",
    "df = pd.read_csv('../P1/train.csv', header=0)"
   ]
  },
  {
   "cell_type": "code",
   "execution_count": 9,
   "metadata": {
    "collapsed": false
   },
   "outputs": [
    {
     "data": {
      "image/png": "[encoded data removed]",
      "text/plain": [
       "<matplotlib.figure.Figure at 0x7fcddf654290>"
      ]
     },
     "metadata": {},
     "output_type": "display_data"
    },
    {
     "name": "stdout",
     "output_type": "stream",
     "text": [
      "('Cherbourg :', 0.5535714285714286, '%')\n",
      "('Queenstown :', 0.38961038961038963, '%')\n",
      "('Southampton :', 0.33695652173913043, '%')\n"
     ]
    }
   ],
   "source": [
    "PassageSurvived = df[\"Survived\"] == 1\n",
    "\n",
    "Cherbourg = df[\"Embarked\"] == \"C\"\n",
    "Queenstown = df[\"Embarked\"] == \"Q\"\n",
    "Southampton = df[\"Embarked\"] == \"S\"\n",
    "\n",
    "NbEmbarkedC = len(df[Cherbourg])\n",
    "NbEmbarkedQ = len(df[Queenstown])\n",
    "NbEmbarkedS = len(df[Southampton])\n",
    "\n",
    "NbSurvivedC = len(df[ PassageSurvived & Cherbourg ])\n",
    "NbSurvivedQ = len(df[ PassageSurvived & Queenstown ])\n",
    "NbSurvivedS = len(df[ PassageSurvived & Southampton ])\n",
    "\n",
    "RaportC = float(NbSurvivedC) / float(NbEmbarkedC)\n",
    "RaportQ = float(NbSurvivedQ) / float(NbEmbarkedQ)\n",
    "RaportS = float(NbSurvivedS) / float(NbEmbarkedS)\n",
    "\n",
    "#construction du diagramme\n",
    "fig = plt.figure()\n",
    "ax = fig.add_subplot(111)\n",
    "\n",
    "ax.set_title('Rapport de survie en fonction du lieux d\\'embarquement\\n')\n",
    "ax.set_ylabel('% de survie')\n",
    "ax.set_xticklabels(['Cherbourg', 'Queenstown', 'Southampton'])\n",
    "ax.set_xticks([0.5, 1.5, 2.5])\n",
    "\n",
    "listData = [RaportC, RaportQ, RaportS]\n",
    "ax.bar(range(len(listData)), listData)\n",
    "plt.show()\n",
    "\n",
    "print('Cherbourg :', RaportC, '%')\n",
    "print('Queenstown :', RaportQ, '%')\n",
    "print('Southampton :', RaportS, '%')"
   ]
  },
  {
   "cell_type": "code",
   "execution_count": null,
   "metadata": {
    "collapsed": true
   },
   "outputs": [],
   "source": []
  }
 ],
 "metadata": {
  "anaconda-cloud": {},
  "kernelspec": {
   "display_name": "Python [default]",
   "language": "python",
   "name": "python2"
  },
  "language_info": {
   "codemirror_mode": {
    "name": "ipython",
    "version": 2
   },
   "file_extension": ".py",
   "mimetype": "text/x-python",
   "name": "python",
   "nbconvert_exporter": "python",
   "pygments_lexer": "ipython2",
   "version": "2.7.12"
  }
 },
 "nbformat": 4,
 "nbformat_minor": 1
}
