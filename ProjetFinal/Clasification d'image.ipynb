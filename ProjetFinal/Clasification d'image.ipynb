{
 "cells": [
  {
   "cell_type": "markdown",
   "metadata": {},
   "source": [
    "# Test ReCAPTCHA de Google\n"
   ]
  },
  {
   "cell_type": "markdown",
   "metadata": {},
   "source": [
    "Dans cette partie nous utiliser les ressource présent dans le répertoir \"test\""
   ]
  },
  {
   "cell_type": "code",
   "execution_count": 3,
   "metadata": {
    "collapsed": true
   },
   "outputs": [],
   "source": [
    "# import de libraire\n",
    "\n",
    "import matplotlib.pyplot as plt\n",
    "from PIL import Image\n",
    "import numpy as np\n",
    "from bs4 import BeautifulSoup\n",
    "import requests\n",
    "import re\n",
    "import urllib2\n",
    "import os\n",
    "import cookielib\n",
    "import json\n",
    "import time\n",
    "from collections import Counter"
   ]
  },
  {
   "cell_type": "markdown",
   "metadata": {},
   "source": [
    "## Partie pour le téléchargement d'images\n",
    "\n",
    "le but et de télécharger un grand nombre d'images sur google images avec un mot clé définie \n",
    "(içi : panneaux de signalisation)"
   ]
  },
  {
   "cell_type": "code",
   "execution_count": 18,
   "metadata": {
    "collapsed": false
   },
   "outputs": [
    {
     "name": "stdout",
     "output_type": "stream",
     "text": [
      "https://www.google.fr/search?q=panneaux+de+signalisation&source=lnms&tbm=isch&tbs=ic:specific\n",
      "there are total 100 images\n",
      "could not load : http://applications.eduscol.education.fr/D0160/03_034assr12signalisation_pan3.gif\n",
      "cannot write mode P as JPEG\n",
      "could not load : http://applications.eduscol.education.fr/D0160/03_034assr12signalisation_pan5.gif\n",
      "cannot write mode P as JPEG\n",
      "could not load : http://applications.eduscol.education.fr/D0160/03_034assr12signalisation_pan1.gif\n",
      "cannot write mode P as JPEG\n",
      "could not load : http://www.expression-anglaise.com/wp-content/uploads/2015/04/interdiction-demi-tour.gif\n",
      "cannot write mode P as JPEG\n",
      "could not load : http://www.hellopro.fr/images/produit-2/2/5/0/panneau-de-signalisation-b2b-1299052.gif\n",
      "cannot write mode P as JPEG\n",
      "could not load : http://www.hellopro.fr/images/produit-2/4/9/0/panneau-de-signalisation-b21c1-1299094.gif\n",
      "cannot write mode P as JPEG\n",
      "could not load : http://www.hellopro.fr/images/produit-2/7/0/2/panneau-de-signalisation-c107-1299207.gif\n",
      "cannot write mode P as JPEG\n",
      "could not load : http://applications.eduscol.education.fr/D0160/03_034assr12signalisation_pan9.gif\n",
      "cannot write mode P as JPEG\n",
      "could not load : http://www.signaletique.biz/boutique/images_produits/zL0209.gif\n",
      "cannot write mode P as JPEG\n",
      "could not load : http://www.signel.ca/images/pt/T-060.jpg\n",
      "cannot identify image file 'img/bigImg_61.jpg'\n",
      "could not load : http://www.netcollectivites.fr/img/cms/logo/self%20signal/panneaux%20de%20signalisation%20net%20collectivit%C3%A9s.png\n",
      "HTTP Error 404: Not Found\n",
      "could not load : http://www.signaletique.biz/boutique/images_produits/zB0.gif\n",
      "cannot write mode P as JPEG\n",
      "Download finished\n"
     ]
    }
   ],
   "source": [
    "search = \"panneaux de signalisation\"\n",
    "\n",
    "def get_soup(url,header):\n",
    "    return BeautifulSoup(urllib2.urlopen(urllib2.Request(url,headers=header)),'html.parser')\n",
    "\n",
    "\n",
    "\n",
    "def download(): \n",
    "        query= search.split()\n",
    "        query='+'.join(query)\n",
    "        url=\"https://www.google.fr/search?q=\"+query+\"&source=lnms&tbm=isch&tbs=ic:specific\"\n",
    "        #url=\"https://www.google.fr/search?safe=off&sa=G&hl=fr&tbs=simg:CAESuQIJyN74dJUufBUarQILEKjU2AQaAggLDAsQsIynCBpiCmAIAxIosgHXBtES1ga-ArMB8gb7BdkG9xL6M-s0kSKQKaU0pzTLKJc1lSLtNBowh1PNHrwTUb64ZJ2FwcaGVbmoUzlNEbh-G7abuI4ZY6jFv4etFTgnJqVGiQrQ-0c4IAQMCxCOrv4IGgoKCAgBEgQ0QURGDAsQne3BCRqaAQogCg1iYW5hbmEgZmFtaWx52qWI9gMLCgkvbS8wMTN4azYKGAoGYmFuYW5h2qWI9gMKCggvbS8wOXFjawoiChBjb29raW5nIHBsYW50YWlu2qWI9gMKCggvbS8wOXFkZAofCgtzYWJhIGJhbmFuYdqliPYDDAoKL20vMGc1cHpoXwoXCgVmcnVpdNqliPYDCgoIL20vMDJ4d2IM&q=\"+query+\"&tbm=isch&ved=0ahUKEwi71dvR57DSAhXSSxoKHbBFARgQsw4ILA&biw=1745&bih=841\"\n",
    "        print url\n",
    "        #add the directory for your image here\n",
    "        DIR=\"img\"\n",
    "        header={'User-Agent':\"Mozilla/5.0 (Windows NT 6.1; WOW64) AppleWebKit/537.36 (KHTML, like Gecko) Chrome/43.0.2357.134 Safari/537.36\"\n",
    "        }\n",
    "        soup = get_soup(url,header) #by stack\n",
    "\n",
    "\n",
    "        ActualImages=[]\n",
    "        for a in soup.find_all(\"div\",{\"class\":\"rg_meta\"}):\n",
    "            link , Type =json.loads(a.text)[\"ou\"]  ,json.loads(a.text)[\"ity\"]\n",
    "            ActualImages.append((link,Type))\n",
    "\n",
    "        print  \"there are total\" , len(ActualImages),\"images\"\n",
    "\n",
    "        if not os.path.exists(DIR):\n",
    "                    os.mkdir(DIR)\n",
    "        if not os.path.exists(DIR):\n",
    "                    os.mkdir(DIR)\n",
    "        cntr = 0\n",
    "        for i , (img , Type) in enumerate( ActualImages):\n",
    "            try:\n",
    "                req = urllib2.Request(img, headers={'User-Agent' : header})\n",
    "                raw_img = urllib2.urlopen(req).read()\n",
    "                if len(Type)==3:\n",
    "                    cntr = cntr + 1\n",
    "                    f = open(os.path.join(DIR ,\"big\"+\"Img\"+\"_\"+ str(cntr)+\".jpg\"), 'wb')\n",
    "                    f.write(raw_img)\n",
    "                    f.close()\n",
    "                    size = 128,128\n",
    "                    im = Image.open(\"img/big\"+\"Img\"+\"_\"+ str(cntr)+\".jpg\")\n",
    "                    im.thumbnail(size, Image.ANTIALIAS)\n",
    "                    im.save(\"img/\"+\"Img\"+\"_\"+ str(cntr)+\".jpg\", \"JPEG\")\n",
    "\n",
    "\n",
    "\n",
    "            except Exception as e:\n",
    "                print \"could not load : \"+img\n",
    "                print e\n",
    "        print \"Download finished\"\n",
    "\n",
    "        \n",
    "download()"
   ]
  },
  {
   "cell_type": "markdown",
   "metadata": {},
   "source": [
    "## Découpage de l'image\n",
    "\n",
    "l'image du test de google et en fait une seul image qu'il faut découpé découpé (içi 4 x 4)"
   ]
  },
  {
   "cell_type": "code",
   "execution_count": null,
   "metadata": {
    "collapsed": true
   },
   "outputs": [],
   "source": []
  },
  {
   "cell_type": "markdown",
   "metadata": {},
   "source": [
    "## Classification d'immages\n",
    "\n",
    "le but de cette dernier partie et de dire si oui ou non les images découpé ce raproche d'un panneaux de signalisation avec un aproximation de environ 70% étant donner la simpliciter de l'images donné)"
   ]
  },
  {
   "cell_type": "code",
   "execution_count": null,
   "metadata": {
    "collapsed": true
   },
   "outputs": [],
   "source": []
  }
 ],
 "metadata": {
  "anaconda-cloud": {},
  "kernelspec": {
   "display_name": "Python [default]",
   "language": "python",
   "name": "python2"
  },
  "language_info": {
   "codemirror_mode": {
    "name": "ipython",
    "version": 2
   },
   "file_extension": ".py",
   "mimetype": "text/x-python",
   "name": "python",
   "nbconvert_exporter": "python",
   "pygments_lexer": "ipython2",
   "version": "2.7.12"
  }
 },
 "nbformat": 4,
 "nbformat_minor": 1
}
