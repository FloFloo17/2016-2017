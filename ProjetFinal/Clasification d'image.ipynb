{
 "cells": [
  {
   "cell_type": "markdown",
   "metadata": {},
   "source": [
    "# Test ReCAPTCHA de Google\n"
   ]
  },
  {
   "cell_type": "markdown",
   "metadata": {},
   "source": [
    "Dans cette partie nous utiliser les ressource présent dans le répertoir \"test\""
   ]
  },
  {
   "cell_type": "code",
   "execution_count": 1,
   "metadata": {
    "collapsed": true
   },
   "outputs": [],
   "source": [
    "# import de libraire\n",
    "\n",
    "import matplotlib.pyplot as plt\n",
    "import PIL\n",
    "from PIL import Image\n",
    "import numpy as np\n",
    "from bs4 import BeautifulSoup\n",
    "import requests\n",
    "import re\n",
    "import urllib2\n",
    "import os\n",
    "import cookielib\n",
    "import json\n",
    "import time\n",
    "from collections import Counter"
   ]
  },
  {
   "cell_type": "markdown",
   "metadata": {},
   "source": [
    "## Découpage de l'image\n",
    "\n",
    "l'image du test de google et en fait une seul image qu'il faut découpé découpé (içi 4 x 4)"
   ]
  },
  {
   "cell_type": "code",
   "execution_count": 88,
   "metadata": {
    "collapsed": false
   },
   "outputs": [],
   "source": [
    "xDiv = 4\n",
    "yDiv = 4\n",
    "filename = 'test/test panneau 4x4.jpeg'\n",
    "\n",
    "\n",
    "img = Image.open(filename)\n",
    "x, y = img.size\n",
    "xsize = x/xDiv\n",
    "ysize = y/yDiv\n",
    "\n",
    "for x in range(xDiv):\n",
    "    for y in range(yDiv):\n",
    "        imgpiece = img.crop((x*xsize, y*ysize, (x+1)*xsize, (y+1)*ysize))\n",
    "        #sauve sous le nom img_x_y.png, toto_0_1.jpeg\n",
    "        imgpiece.save('images_decoup/img' + '_' + str(x) + '_' + str(y) + '.jpg')    \n"
   ]
  },
  {
   "cell_type": "markdown",
   "metadata": {},
   "source": [
    "## Partie pour le téléchargement d'images\n",
    "\n",
    "le but et de télécharger un grand nombre d'images sur google images avec un mot clé définie \n",
    "(içi : panneaux de signalisation)"
   ]
  },
  {
   "cell_type": "code",
   "execution_count": 96,
   "metadata": {
    "collapsed": false
   },
   "outputs": [
    {
     "name": "stdout",
     "output_type": "stream",
     "text": [
      "https://www.google.fr/search?q=panneaux+de+signalisation&source=lnms&tbm=isch&tbs=ic:specific\n",
      "there are total 100 images\n",
      "could not load : http://applications.eduscol.education.fr/D0160/03_034assr12signalisation_pan3.gif\n",
      "cannot write mode P as JPEG\n",
      "could not load : http://applications.eduscol.education.fr/D0160/03_034assr12signalisation_pan5.gif\n",
      "cannot write mode P as JPEG\n",
      "could not load : http://www.hellopro.fr/images/produit-2/7/0/2/panneau-de-signalisation-c107-1299207.gif\n",
      "cannot write mode P as JPEG\n",
      "could not load : https://www.coderouteplus.com/wp-content/uploads/2015/11/panneaux-de-signalisation.jpg\n",
      "<urlopen error [Errno -2] Name or service not known>\n",
      "could not load : http://www.expression-anglaise.com/wp-content/uploads/2015/04/interdiction-demi-tour.gif\n",
      "cannot write mode P as JPEG\n",
      "could not load : http://www.hellopro.fr/images/produit-2/2/5/0/panneau-de-signalisation-b2b-1299052.gif\n",
      "cannot write mode P as JPEG\n",
      "could not load : http://www.hellopro.fr/images/produit-2/4/9/0/panneau-de-signalisation-b21c1-1299094.gif\n",
      "cannot write mode P as JPEG\n",
      "could not load : http://applications.eduscol.education.fr/D0160/03_034assr12signalisation_pan1.gif\n",
      "cannot write mode P as JPEG\n",
      "could not load : http://applications.eduscol.education.fr/D0160/03_034assr12signalisation_pan9.gif\n",
      "cannot write mode P as JPEG\n",
      "could not load : http://www.signaletique.biz/boutique/images_produits/zL0209.gif\n",
      "cannot write mode P as JPEG\n",
      "could not load : http://www.seton.fr/media/catalog/product/d/m/dmeu_tempak31_1_std.lang.all.png\n",
      "cannot write mode P as JPEG\n",
      "could not load : http://www.signel.ca/images/pt/T-060.jpg\n",
      "cannot identify image file 'img/bigImg_66.jpg'\n",
      "could not load : http://www.signaletique.biz/boutique/images_produits/zB0.gif\n",
      "cannot write mode P as JPEG\n",
      "could not load : http://www.netcollectivites.fr/img/cms/logo/self%20signal/Capture%20d%E2%80%99%C3%A9cran%202015-07-01%20%C3%A0%2012-21-26.png\n",
      "HTTP Error 404: Not Found\n",
      "could not load : http://autoecolefrance.com/wp-content/uploads/2016/03/2016-06-28_042246-310x165.jpg\n",
      "<urlopen error [Errno -2] Name or service not known>\n",
      "could not load : http://www.seton.fr/media/catalog/product/cache/1/image/85e4522595efc69f496374d01ef2bf13/1425062629/d/m/dmeu_tcr44_26_1_std.lang.all.png\n",
      "cannot write mode P as JPEG\n",
      "could not load : http://www.signaletique.biz/boutique/images_produits/zD0024.gif\n",
      "cannot write mode P as JPEG\n",
      "Download finished\n"
     ]
    }
   ],
   "source": [
    "search = \"panneaux de signalisation\"\n",
    "\n",
    "def get_soup(url,header):\n",
    "    return BeautifulSoup(urllib2.urlopen(urllib2.Request(url,headers=header)),'html.parser')\n",
    "\n",
    "\n",
    "\n",
    "def download(): \n",
    "        query= search.split()\n",
    "        query='+'.join(query)\n",
    "        url=\"https://www.google.fr/search?q=\"+query+\"&source=lnms&tbm=isch&tbs=ic:specific\"\n",
    "        print url\n",
    "        #add the directory for your image here\n",
    "        DIR=\"img\"\n",
    "        header={'User-Agent':\"Mozilla/5.0 (Windows NT 6.1; WOW64) AppleWebKit/537.36 (KHTML, like Gecko) Chrome/43.0.2357.134 Safari/537.36\"\n",
    "        }\n",
    "        soup = get_soup(url,header) #by stack\n",
    "\n",
    "\n",
    "        ActualImages=[]\n",
    "        for a in soup.find_all(\"div\",{\"class\":\"rg_meta\"}):\n",
    "            link , Type =json.loads(a.text)[\"ou\"]  ,json.loads(a.text)[\"ity\"]\n",
    "            ActualImages.append((link,Type))\n",
    "\n",
    "        print  \"there are total\" , len(ActualImages),\"images\"\n",
    "\n",
    "        if not os.path.exists(DIR):\n",
    "                    os.mkdir(DIR)\n",
    "        if not os.path.exists(DIR):\n",
    "                    os.mkdir(DIR)\n",
    "        cntr = 0\n",
    "        for i , (img , Type) in enumerate( ActualImages):\n",
    "            try:\n",
    "                req = urllib2.Request(img, headers={'User-Agent' : header})\n",
    "                raw_img = urllib2.urlopen(req).read()\n",
    "                if len(Type)==3:\n",
    "                    cntr = cntr + 1\n",
    "                    f = open(os.path.join(DIR ,\"big\"+\"Img\"+\"_\"+ str(cntr)+\".jpg\"), 'wb')\n",
    "                    f.write(raw_img)\n",
    "                    f.close()\n",
    "                    size = xsize,ysize\n",
    "                    im = Image.open(\"img/big\"+\"Img\"+\"_\"+ str(cntr)+\".jpg\")\n",
    "                    im.thumbnail(size, Image.ANTIALIAS)\n",
    "                    im.save(\"img/\"+\"Img\"+\"_\"+ str(cntr)+\".jpg\", \"JPEG\")\n",
    "\n",
    "\n",
    "\n",
    "            except Exception as e:\n",
    "                print \"could not load : \"+img\n",
    "                print e\n",
    "        print \"Download finished\"\n",
    "\n",
    "        \n",
    "download()"
   ]
  },
  {
   "cell_type": "markdown",
   "metadata": {},
   "source": [
    "## Classification d'immages\n",
    "\n",
    "Le but de cette dernier partie et de dire si oui ou non les images découpé ce raproche d'un panneaux de signalisation avec une aproximation"
   ]
  },
  {
   "cell_type": "markdown",
   "metadata": {},
   "source": [
    "### répertorie les pixels\n",
    "\n",
    "répertorie les pixels des images de références dans un fichier text (pour le faire qu'une fois) "
   ]
  },
  {
   "cell_type": "code",
   "execution_count": 97,
   "metadata": {
    "collapsed": false
   },
   "outputs": [
    {
     "name": "stdout",
     "output_type": "stream",
     "text": [
      "cannot identify image file 'img/Img_2.jpg'\n",
      "cannot identify image file 'img/Img_4.jpg'\n",
      "cannot identify image file 'img/Img_9.jpg'\n",
      "cannot identify image file 'img/Img_14.jpg'\n",
      "cannot identify image file 'img/Img_18.jpg'\n",
      "cannot identify image file 'img/Img_22.jpg'\n",
      "cannot identify image file 'img/Img_25.jpg'\n",
      "cannot identify image file 'img/Img_29.jpg'\n",
      "cannot identify image file 'img/Img_51.jpg'\n",
      "cannot identify image file 'img/Img_61.jpg'\n",
      "[Errno 2] No such file or directory: 'img/Img_66.jpg'\n",
      "cannot identify image file 'img/Img_67.jpg'\n",
      "cannot identify image file 'img/Img_92.jpg'\n",
      "cannot identify image file 'img/Img_94.jpg'\n",
      "[Errno 2] No such file or directory: 'img/Img_95.jpg'\n",
      "[Errno 2] No such file or directory: 'img/Img_96.jpg'\n",
      "[Errno 2] No such file or directory: 'img/Img_97.jpg'\n",
      "[Errno 2] No such file or directory: 'img/Img_98.jpg'\n"
     ]
    }
   ],
   "source": [
    "  \n",
    "numberPerType = range(1,99)\n",
    "\n",
    "\n",
    "for furtherNum in numberPerType:\n",
    "    try:\n",
    "        numberArrayExamples = open('numAr.txt','a')\n",
    "        imgFilePath = 'img/Img_'+str(furtherNum)+'.jpg'\n",
    "        ei = Image.open(imgFilePath)      \n",
    "        eiar = np.array(ei)\n",
    "        eiarl = str(eiar.tolist())\n",
    "        lineToWrite = str(furtherNum)+'::'+eiarl+'\\n'\n",
    "        numberArrayExamples.write(lineToWrite)\n",
    "        numberArrayExamples.close()\n",
    "        ei.close()\n",
    "        del ei\n",
    "        del eiar\n",
    "        del eiarl\n",
    "    except Exception as e:\n",
    "        print e\n"
   ]
  },
  {
   "cell_type": "markdown",
   "metadata": {},
   "source": [
    "### Compare\n",
    "\n",
    "compare le nombre de pixel en commun avec les images de références"
   ]
  },
  {
   "cell_type": "code",
   "execution_count": 98,
   "metadata": {
    "collapsed": false
   },
   "outputs": [
    {
     "name": "stdout",
     "output_type": "stream",
     "text": [
      "images_decoup/img_0_0.jpg = 2\n",
      "images_decoup/img_0_1.jpg = 8\n",
      "images_decoup/img_0_2.jpg = 2\n",
      "images_decoup/img_0_3.jpg = 5\n",
      "images_decoup/img_1_0.jpg = 3\n",
      "images_decoup/img_1_1.jpg = 4\n",
      "images_decoup/img_1_2.jpg = 3\n",
      "images_decoup/img_1_3.jpg = 3\n",
      "images_decoup/img_2_0.jpg = 1\n",
      "images_decoup/img_2_1.jpg = 2\n",
      "images_decoup/img_2_2.jpg = 0\n",
      "images_decoup/img_2_3.jpg = 5\n",
      "images_decoup/img_3_0.jpg = 3\n",
      "images_decoup/img_3_1.jpg = 7\n",
      "images_decoup/img_3_2.jpg = 2\n",
      "images_decoup/img_3_3.jpg = 4\n"
     ]
    }
   ],
   "source": [
    "def whatNumIsImg(filePath):\n",
    "\n",
    "    matchedAr = []\n",
    "    loadExamps = open('numAr.txt','r').read()\n",
    "    loadExamps = loadExamps.split('\\n')\n",
    "    \n",
    "    i = Image.open(filePath)\n",
    "    iar = np.array(i)\n",
    "    iarl = iar.tolist()\n",
    "\n",
    "    inQuestion = str(iarl)\n",
    "\n",
    "    for eachExample in loadExamps:\n",
    "        try:\n",
    "            splitEx = eachExample.split('::')\n",
    "            currentNum = splitEx[0]\n",
    "            currentAr = splitEx[1]\n",
    "            \n",
    "            eachPixEx = currentAr.split('],')\n",
    "            eachPixInQ = inQuestion.split('],')\n",
    "\n",
    "            x = 0\n",
    "\n",
    "            while x < len(eachPixEx):\n",
    "                if eachPixEx[x] == eachPixInQ[x]:\n",
    "                    matchedAr.append(int(currentNum))\n",
    "\n",
    "                x+=1\n",
    "        except Exception as e:\n",
    "            e\n",
    "            \n",
    "    print filePath + ' = ' + str(len(matchedAr))\n",
    "\n",
    "    \n",
    "for x in range(xDiv):\n",
    "    for y in range(yDiv):\n",
    "        whatNumIsImg('images_decoup/img_'+str(x)+'_'+str(y)+'.jpg')"
   ]
  },
  {
   "cell_type": "markdown",
   "metadata": {},
   "source": [
    "# Conclusion\n",
    "\n",
    "la comparéson na pas du tout marcher les bonnes images a trouver son :\n",
    "    mg_0_2.jpg\n",
    "    mg_1_2.jpg\n",
    "    mg_2_2.jpg\n",
    "    mg_3_2.jpg"
   ]
  }
 ],
 "metadata": {
  "anaconda-cloud": {},
  "kernelspec": {
   "display_name": "Python [default]",
   "language": "python",
   "name": "python2"
  },
  "language_info": {
   "codemirror_mode": {
    "name": "ipython",
    "version": 2
   },
   "file_extension": ".py",
   "mimetype": "text/x-python",
   "name": "python",
   "nbconvert_exporter": "python",
   "pygments_lexer": "ipython2",
   "version": "2.7.12"
  }
 },
 "nbformat": 4,
 "nbformat_minor": 1
}
