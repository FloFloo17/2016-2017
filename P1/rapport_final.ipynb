{
 "cells": [
  {
   "cell_type": "markdown",
   "metadata": {
    "collapsed": false,
    "nbpresent": {
     "id": "4d1ea760-71d7-4671-bade-daa79d85b073"
    }
   },
   "source": [
    "Florian Quintin\n",
    "Project 1\n",
    "\n",
    "Vous êtes nouvel embauché chez CoolCorp, une startup qui se spécialise dans l'analyse des désastres maritimes.\n",
    "Un nouveau client, White Star Lines, se trouve face à un procès à travers le temps, affaire délicate.\n",
    "Votre chef vous demande, en tant que seul data scientist chez CoolCorp, d'analyser les données `*.csv`.\n",
    "WSL a déjà engagé un expert pour annoter une partie des données (`test.csv`) avec la survie ou pas des passagers."
   ]
  },
  {
   "cell_type": "code",
   "execution_count": 123,
   "metadata": {
    "collapsed": true,
    "nbpresent": {
     "id": "e4476de6-3978-40f5-b93d-1cbc49ad27c2"
    }
   },
   "outputs": [],
   "source": [
    "# importation des différente librairie\n",
    "import numpy as np\n",
    "import scipy.stats as ss\n",
    "import matplotlib.pyplot as plt\n",
    "import sklearn\n",
    "import pandas as pd\n",
    "import math as mt\n",
    "%matplotlib inline\n",
    "import csv as csv"
   ]
  },
  {
   "cell_type": "markdown",
   "metadata": {},
   "source": [
    "On peut commencer par afficher les premières lignes du fichier train.csv afain de mieux apréander des données sur les qu'elle nous allons travailler"
   ]
  },
  {
   "cell_type": "code",
   "execution_count": 125,
   "metadata": {
    "collapsed": false
   },
   "outputs": [
    {
     "data": {
      "text/html": [
       "<div>\n",
       "<table border=\"1\" class=\"dataframe\">\n",
       "  <thead>\n",
       "    <tr style=\"text-align: right;\">\n",
       "      <th></th>\n",
       "      <th>PassengerId</th>\n",
       "      <th>Survived</th>\n",
       "      <th>Pclass</th>\n",
       "      <th>Name</th>\n",
       "      <th>Sex</th>\n",
       "      <th>Age</th>\n",
       "      <th>SibSp</th>\n",
       "      <th>Parch</th>\n",
       "      <th>Ticket</th>\n",
       "      <th>Fare</th>\n",
       "      <th>Cabin</th>\n",
       "      <th>Embarked</th>\n",
       "    </tr>\n",
       "  </thead>\n",
       "  <tbody>\n",
       "    <tr>\n",
       "      <th>0</th>\n",
       "      <td>1</td>\n",
       "      <td>0</td>\n",
       "      <td>3</td>\n",
       "      <td>Braund, Mr. Owen Harris</td>\n",
       "      <td>male</td>\n",
       "      <td>22.0</td>\n",
       "      <td>1</td>\n",
       "      <td>0</td>\n",
       "      <td>A/5 21171</td>\n",
       "      <td>7.2500</td>\n",
       "      <td>NaN</td>\n",
       "      <td>S</td>\n",
       "    </tr>\n",
       "    <tr>\n",
       "      <th>1</th>\n",
       "      <td>2</td>\n",
       "      <td>1</td>\n",
       "      <td>1</td>\n",
       "      <td>Cumings, Mrs. John Bradley (Florence Briggs Th...</td>\n",
       "      <td>female</td>\n",
       "      <td>38.0</td>\n",
       "      <td>1</td>\n",
       "      <td>0</td>\n",
       "      <td>PC 17599</td>\n",
       "      <td>71.2833</td>\n",
       "      <td>C85</td>\n",
       "      <td>C</td>\n",
       "    </tr>\n",
       "    <tr>\n",
       "      <th>2</th>\n",
       "      <td>3</td>\n",
       "      <td>1</td>\n",
       "      <td>3</td>\n",
       "      <td>Heikkinen, Miss. Laina</td>\n",
       "      <td>female</td>\n",
       "      <td>26.0</td>\n",
       "      <td>0</td>\n",
       "      <td>0</td>\n",
       "      <td>STON/O2. 3101282</td>\n",
       "      <td>7.9250</td>\n",
       "      <td>NaN</td>\n",
       "      <td>S</td>\n",
       "    </tr>\n",
       "    <tr>\n",
       "      <th>3</th>\n",
       "      <td>4</td>\n",
       "      <td>1</td>\n",
       "      <td>1</td>\n",
       "      <td>Futrelle, Mrs. Jacques Heath (Lily May Peel)</td>\n",
       "      <td>female</td>\n",
       "      <td>35.0</td>\n",
       "      <td>1</td>\n",
       "      <td>0</td>\n",
       "      <td>113803</td>\n",
       "      <td>53.1000</td>\n",
       "      <td>C123</td>\n",
       "      <td>S</td>\n",
       "    </tr>\n",
       "    <tr>\n",
       "      <th>4</th>\n",
       "      <td>5</td>\n",
       "      <td>0</td>\n",
       "      <td>3</td>\n",
       "      <td>Allen, Mr. William Henry</td>\n",
       "      <td>male</td>\n",
       "      <td>35.0</td>\n",
       "      <td>0</td>\n",
       "      <td>0</td>\n",
       "      <td>373450</td>\n",
       "      <td>8.0500</td>\n",
       "      <td>NaN</td>\n",
       "      <td>S</td>\n",
       "    </tr>\n",
       "  </tbody>\n",
       "</table>\n",
       "</div>"
      ],
      "text/plain": [
       "   PassengerId  Survived  Pclass  \\\n",
       "0            1         0       3   \n",
       "1            2         1       1   \n",
       "2            3         1       3   \n",
       "3            4         1       1   \n",
       "4            5         0       3   \n",
       "\n",
       "                                                Name     Sex   Age  SibSp  \\\n",
       "0                            Braund, Mr. Owen Harris    male  22.0      1   \n",
       "1  Cumings, Mrs. John Bradley (Florence Briggs Th...  female  38.0      1   \n",
       "2                             Heikkinen, Miss. Laina  female  26.0      0   \n",
       "3       Futrelle, Mrs. Jacques Heath (Lily May Peel)  female  35.0      1   \n",
       "4                           Allen, Mr. William Henry    male  35.0      0   \n",
       "\n",
       "   Parch            Ticket     Fare Cabin Embarked  \n",
       "0      0         A/5 21171   7.2500   NaN        S  \n",
       "1      0          PC 17599  71.2833   C85        C  \n",
       "2      0  STON/O2. 3101282   7.9250   NaN        S  \n",
       "3      0            113803  53.1000  C123        S  \n",
       "4      0            373450   8.0500   NaN        S  "
      ]
     },
     "execution_count": 125,
     "metadata": {},
     "output_type": "execute_result"
    }
   ],
   "source": [
    "df = pd.read_csv('train.csv', header=0)\n",
    "df.head()"
   ]
  },
  {
   "cell_type": "markdown",
   "metadata": {},
   "source": [
    "Pour rappel :\n",
    "\n",
    "    PassengerId : Le numéro d'embarquement du passager\n",
    "    Survived : Indique si le passager a survécu (1) ou non (0)\n",
    "    Pclass : La classe dans laquelle le passager était enregistré, 1, 2 ou 3.\n",
    "    Name : Nom du passager\n",
    "    Sex : Sexe du passager\n",
    "    Age : Age du passager\n",
    "    SibSp : Nombre de frères, soeurs épouse/époux du passager\n",
    "    Parch : Nombre de pères/mères\n",
    "    Ticket : Numéro du ticketdu passager\n",
    "    Fare : Prix du ticker du passager\n",
    "    Cabin : Numéro de cabine\n",
    "    Embarked : Lieu d'embarcation\n"
   ]
  },
  {
   "cell_type": "markdown",
   "metadata": {},
   "source": [
    "Nous alons meintenante nous intéreser à la colone Embarked qui se traduit par : C = Cherbourg; Q = Queenstown; S = Southampton"
   ]
  },
  {
   "cell_type": "code",
   "execution_count": 120,
   "metadata": {
    "collapsed": false
   },
   "outputs": [
    {
     "name": "stdout",
     "output_type": "stream",
     "text": [
      "<class 'pandas.core.frame.DataFrame'>\n",
      "RangeIndex: 891 entries, 0 to 890\n",
      "Data columns (total 12 columns):\n",
      "PassengerId    891 non-null int64\n",
      "Survived       891 non-null int64\n",
      "Pclass         891 non-null int64\n",
      "Name           891 non-null object\n",
      "Sex            891 non-null object\n",
      "Age            714 non-null float64\n",
      "SibSp          891 non-null int64\n",
      "Parch          891 non-null int64\n",
      "Ticket         891 non-null object\n",
      "Fare           891 non-null float64\n",
      "Cabin          204 non-null object\n",
      "Embarked       889 non-null object\n",
      "dtypes: float64(2), int64(5), object(5)\n",
      "memory usage: 83.6+ KB\n"
     ]
    }
   ],
   "source": [
    "df.info()"
   ]
  },
  {
   "cell_type": "markdown",
   "metadata": {},
   "source": [
    "On peux remarquer que il y a que 889 passagés d'ont on sais le lieux d'embarquement, sur la liste de 891 que poséde le fichier. Se nombre est emplement sufisant pour travailler, nous alons donc ignorer les passagers d'ont on ne conner pas le lieux d'embarquement."
   ]
  },
  {
   "cell_type": "code",
   "execution_count": 119,
   "metadata": {
    "collapsed": false,
    "scrolled": true
   },
   "outputs": [
    {
     "data": {
      "image/png": "[encoded data removed]",
      "text/plain": [
       "<matplotlib.figure.Figure at 0x7f7fe8d87110>"
      ]
     },
     "metadata": {},
     "output_type": "display_data"
    }
   ],
   "source": [
    "# Calcule du nombre de passager suivante le lieux d'emparquement\n",
    "\n",
    "Cherbourg = df[\"Embarked\"] == \"C\"\n",
    "Queenstown = df[\"Embarked\"] == \"Q\"\n",
    "Southampton = df[\"Embarked\"] == \"S\"\n",
    "\n",
    "NbEmbarkedC = len(df[Cherbourg])\n",
    "NbEmbarkedQ = len(df[Queenstown])\n",
    "NbEmbarkedS = len(df[Southampton])\n",
    "\n",
    "listData = [NbEmbarkedC, NbEmbarkedQ, NbEmbarkedS]\n",
    "name = ['Cherbourg', 'Queenstown', 'Southampton']\n",
    "\n",
    "\n",
    "plt.pie(listData, labels=name, autopct='%1.1f%%', startangle=90)\n",
    "plt.axis('equal')\n",
    "plt.show()\n"
   ]
  },
  {
   "cell_type": "markdown",
   "metadata": {},
   "source": [
    "On peux constater que une grand majoriter des passageés on embarqué à Southampton selà peux s'expliquer par le fait que le Titanic à commencer ça croisier dans son port, puis a embarquer de nouveau passager à Cherbourg et termine par Queenstown avant de commancer la trance Atlentique."
   ]
  },
  {
   "cell_type": "markdown",
   "metadata": {},
   "source": [
    "Nous alons meintenant nous interresser au personne qui on suvécu et du port dans le quel les survivants on embarqué"
   ]
  },
  {
   "cell_type": "code",
   "execution_count": 67,
   "metadata": {
    "collapsed": false,
    "scrolled": true
   },
   "outputs": [
    {
     "data": {
      "image/png": "[encoded data removed]",
      "text/plain": [
       "<matplotlib.figure.Figure at 0x7f7fe93dcf50>"
      ]
     },
     "metadata": {},
     "output_type": "display_data"
    }
   ],
   "source": [
    "PassageSurvived = df[\"Survived\"] == 1\n",
    "\n",
    "Cherbourg = df[\"Embarked\"] == \"C\"\n",
    "Queenstown = df[\"Embarked\"] == \"Q\"\n",
    "Southampton = df[\"Embarked\"] == \"S\"\n",
    "\n",
    "NbSurvivedC = len(df[ PassageSurvived & Cherbourg ])\n",
    "NbSurvivedQ = len(df[ PassageSurvived & Queenstown ])\n",
    "NbSurvivedS = len(df[ PassageSurvived & Southampton ])\n",
    "\n",
    "listData = [NbSurvivedC, NbSurvivedQ, NbSurvivedS]\n",
    "name = ['Cherbourg', 'Queenstown', 'Southampton']\n",
    "\n",
    "\n",
    "plt.pie(listData, labels=name, autopct='%1.1f%%', startangle=90)\n",
    "plt.axis('equal')\n",
    "plt.show()\n"
   ]
  },
  {
   "cell_type": "markdown",
   "metadata": {},
   "source": [
    "On peux constater içi que le pourcentage de personnes qui on embarquer à Cherbourg et qui on suvécue est plus important que précédent, ma"
   ]
  },
  {
   "cell_type": "code",
   "execution_count": 122,
   "metadata": {
    "collapsed": false
   },
   "outputs": [
    {
     "data": {
      "image/png": "[encoded data removed]",
      "text/plain": [
       "<matplotlib.figure.Figure at 0x7f7fe8cb2410>"
      ]
     },
     "metadata": {},
     "output_type": "display_data"
    },
    {
     "name": "stdout",
     "output_type": "stream",
     "text": [
      "('Cherbourg :', 0.5535714285714286, '%')\n",
      "('Queenstown :', 0.38961038961038963, '%')\n",
      "('Southampton :', 0.33695652173913043, '%')\n"
     ]
    }
   ],
   "source": [
    "PassageSurvived = df[\"Survived\"] == 1\n",
    "\n",
    "Cherbourg = df[\"Embarked\"] == \"C\"\n",
    "Queenstown = df[\"Embarked\"] == \"Q\"\n",
    "Southampton = df[\"Embarked\"] == \"S\"\n",
    "\n",
    "NbEmbarkedC = len(df[Cherbourg])\n",
    "NbEmbarkedQ = len(df[Queenstown])\n",
    "NbEmbarkedS = len(df[Southampton])\n",
    "\n",
    "NbSurvivedC = len(df[ PassageSurvived & Cherbourg ])\n",
    "NbSurvivedQ = len(df[ PassageSurvived & Queenstown ])\n",
    "NbSurvivedS = len(df[ PassageSurvived & Southampton ])\n",
    "\n",
    "RaportC = float(NbSurvivedC) / float(NbEmbarkedC)\n",
    "RaportQ = float(NbSurvivedQ) / float(NbEmbarkedQ)\n",
    "RaportS = float(NbSurvivedS) / float(NbEmbarkedS)\n",
    "\n",
    "#construction du diagramme\n",
    "fig = plt.figure()\n",
    "ax = fig.add_subplot(111)\n",
    "\n",
    "ax.set_title('Rapport de survie en fonction du lieux d\\'embarquement\\n')\n",
    "ax.set_ylabel('% de survie')\n",
    "ax.set_xticklabels(['Cherbourg', 'Queenstown', 'Southampton'])\n",
    "ax.set_xticks([0.5, 1.5, 2.5])\n",
    "\n",
    "listData = [RaportC, RaportQ, RaportS]\n",
    "ax.bar(range(len(listData)), listData)\n",
    "plt.show()\n",
    "\n",
    "print('Cherbourg :', RaportC, '%')\n",
    "print('Queenstown :', RaportQ, '%')\n",
    "print('Southampton :', RaportS, '%')"
   ]
  },
  {
   "cell_type": "markdown",
   "metadata": {},
   "source": [
    "Pour conclure, on voir explicitement que les personnes qui on embarqué à Cherbourg on eux beaucoup plus de chance de survie que les deux autres lieux d'embarquement."
   ]
  }
 ],
 "metadata": {
  "anaconda-cloud": {},
  "kernelspec": {
   "display_name": "Python [default]",
   "language": "python",
   "name": "python2"
  },
  "language_info": {
   "codemirror_mode": {
    "name": "ipython",
    "version": 2
   },
   "file_extension": ".py",
   "mimetype": "text/x-python",
   "name": "python",
   "nbconvert_exporter": "python",
   "pygments_lexer": "ipython2",
   "version": "2.7.12"
  }
 },
 "nbformat": 4,
 "nbformat_minor": 1
}
